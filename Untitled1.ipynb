{
 "cells": [
  {
   "cell_type": "code",
   "execution_count": 1,
   "id": "dc35d90b",
   "metadata": {},
   "outputs": [
    {
     "name": "stdout",
     "output_type": "stream",
     "text": [
      "Duplicate Count: 2866\n",
      " * Serving Flask app \"__main__\" (lazy loading)\n",
      " * Environment: production\n",
      "\u001b[31m   WARNING: This is a development server. Do not use it in a production deployment.\u001b[0m\n",
      "\u001b[2m   Use a production WSGI server instead.\u001b[0m\n",
      " * Debug mode: on\n"
     ]
    },
    {
     "name": "stderr",
     "output_type": "stream",
     "text": [
      " * Restarting with watchdog (windowsapi)\n"
     ]
    },
    {
     "ename": "SystemExit",
     "evalue": "1",
     "output_type": "error",
     "traceback": [
      "An exception has occurred, use %tb to see the full traceback.\n",
      "\u001b[1;31mSystemExit\u001b[0m\u001b[1;31m:\u001b[0m 1\n"
     ]
    },
    {
     "name": "stderr",
     "output_type": "stream",
     "text": [
      "C:\\Users\\swagat\\anaconda3\\lib\\site-packages\\IPython\\core\\interactiveshell.py:3452: UserWarning: To exit: use 'exit', 'quit', or Ctrl-D.\n",
      "  warn(\"To exit: use 'exit', 'quit', or Ctrl-D.\", stacklevel=1)\n"
     ]
    }
   ],
   "source": [
    "import pandas as pd\n",
    "from flask import Flask, request, render_template\n",
    "from sklearn.preprocessing import MinMaxScaler\n",
    "from sklearn.metrics.pairwise import cosine_similarity\n",
    "\n",
    "app = Flask(__name__)\n",
    "\n",
    "# Load and preprocess data\n",
    "df = pd.read_csv(\"dataset.csv\")\n",
    "df.drop(columns='Unnamed: 0', inplace=True)\n",
    "\n",
    "dfYear = pd.read_csv(\"data/data.csv\")\n",
    "dfYear = dfYear[['id', 'year']]\n",
    "dfYear['track_id'] = dfYear['id']\n",
    "dfYear.drop(columns='id', inplace=True)\n",
    "\n",
    "df = pd.merge(df, dfYear, on='track_id')\n",
    "\n",
    "# Duplicate Check\n",
    "duplicates = df[df.duplicated('track_id')]\n",
    "print(\"Duplicate Count:\", len(duplicates))\n",
    "\n",
    "# Crosstab Genre and Song\n",
    "xtab_song = pd.crosstab(df['track_id'], df['track_genre'])\n",
    "xtab_song = xtab_song * 2\n",
    "\n",
    "# Concatenate the encoded genre columns with the original dataframe\n",
    "dfDistinct = df.drop_duplicates('track_id')\n",
    "dfDistinct = dfDistinct.sort_values('track_id')\n",
    "dfDistinct = dfDistinct.reset_index(drop=True)\n",
    "\n",
    "xtab_song.reset_index(inplace=True)\n",
    "data_encoded = pd.concat([dfDistinct, xtab_song], axis=1)\n",
    "\n",
    "# Numerical feature scaling\n",
    "numerical_features = ['explicit', 'danceability', 'energy', 'loudness', 'speechiness', 'acousticness', 'instrumentalness', 'liveness', 'valence', 'year']\n",
    "scaler = MinMaxScaler()\n",
    "data_encoded[numerical_features] = scaler.fit_transform(data_encoded[numerical_features])\n",
    "\n",
    "# Calculate item similarities\n",
    "calculatied_features = numerical_features + list(xtab_song.drop(columns='track_id').columns)\n",
    "cosine_sim = cosine_similarity(data_encoded[calculatied_features], data_encoded[calculatied_features])\n",
    "\n",
    "# Recommendation function\n",
    "def get_recommendations(title, N=5):\n",
    "    indices = pd.Series(data_encoded.index, index=data_encoded['track_name']).drop_duplicates()\n",
    "\n",
    "    try:\n",
    "        idx = indices[title]\n",
    "        try:\n",
    "            len(idx)\n",
    "            temp = 2\n",
    "        except:\n",
    "            temp = 1\n",
    "    except KeyError:\n",
    "        return \"Song not found in the dataset.\"\n",
    "    \n",
    "    if temp == 2:\n",
    "        idx = indices[title][0]\n",
    "    else:\n",
    "        idx = indices[title]\n",
    "    sim_scores = list(enumerate(cosine_sim[idx]))\n",
    "    sim_scores = sorted(sim_scores, key=lambda x: x[1], reverse=True)\n",
    "    sim_scores = sim_scores[1:N+1]\n",
    "    song_indices = [i[0] for i in sim_scores]\n",
    "    recommended_songs = data_encoded[['track_name', 'artists', 'album_name']].iloc[song_indices]\n",
    "\n",
    "    sim_scores_list = [i[1] for i in sim_scores]\n",
    "    recommended_list = recommended_songs.to_dict(orient='records')\n",
    "    for i, song in enumerate(recommended_list):\n",
    "        song['similarity_score'] = sim_scores_list[i]\n",
    "    \n",
    "    return recommended_list\n",
    "\n",
    "@app.route('/')\n",
    "def index():\n",
    "    return render_template('index.html')\n",
    "\n",
    "@app.route('/recommend', methods=['POST'])\n",
    "def recommend():\n",
    "    title = request.form.get('title')\n",
    "    recommended_songs = get_recommendations(title, N=5)\n",
    "    if isinstance(recommended_songs, str):\n",
    "        return recommended_songs\n",
    "    else:\n",
    "        return render_template('recommendations.html', recommended_songs=recommended_songs)\n",
    "\n",
    "if __name__ == '__main__':\n",
    "    app.run(debug=True)\n"
   ]
  },
  {
   "cell_type": "code",
   "execution_count": null,
   "id": "c2a0f40e",
   "metadata": {},
   "outputs": [],
   "source": []
  }
 ],
 "metadata": {
  "kernelspec": {
   "display_name": "Python 3 (ipykernel)",
   "language": "python",
   "name": "python3"
  },
  "language_info": {
   "codemirror_mode": {
    "name": "ipython",
    "version": 3
   },
   "file_extension": ".py",
   "mimetype": "text/x-python",
   "name": "python",
   "nbconvert_exporter": "python",
   "pygments_lexer": "ipython3",
   "version": "3.9.7"
  }
 },
 "nbformat": 4,
 "nbformat_minor": 5
}
